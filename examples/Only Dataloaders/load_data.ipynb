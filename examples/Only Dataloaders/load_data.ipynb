{
 "cells": [
  {
   "cell_type": "markdown",
   "metadata": {},
   "source": [
    "## For Fluorescence Data"
   ]
  },
  {
   "cell_type": "markdown",
   "metadata": {},
   "source": [
    "### Importing the DataLoader"
   ]
  },
  {
   "cell_type": "code",
   "execution_count": 1,
   "metadata": {},
   "outputs": [],
   "source": [
    "%load_ext autoreload\n",
    "%autoreload 2"
   ]
  },
  {
   "cell_type": "code",
   "execution_count": 2,
   "metadata": {},
   "outputs": [],
   "source": [
    "from spectradb.dataloaders import FluorescenceDataLoader, FTIRDataLoader, NMRDataLoader\n",
    "from spectradb.utils import contourplot, spectrum"
   ]
  },
  {
   "cell_type": "markdown",
   "metadata": {},
   "source": [
    "### Creating dataloader object"
   ]
  },
  {
   "cell_type": "code",
   "execution_count": 3,
   "metadata": {},
   "outputs": [
    {
     "name": "stdout",
     "output_type": "stream",
     "text": [
      "Data generated from Agilent Cary Eclipse fluorescence             spectrometer\n",
      "File: Example\n",
      "Samples:\n",
      "+------------------------------------------------------------+\n",
      "| Identifier | Sample Name                                   |\n",
      "+------------------------------------------------------------+\n",
      "| S1         | 19                                            |\n",
      "| S2         | 20                                            |\n",
      "| S3         | 21                                            |\n",
      "| S4         | 22                                            |\n",
      "+------------------------------------------------------------+\n"
     ]
    }
   ],
   "source": [
    "fluorescence = FluorescenceDataLoader(filepath=\"Example.csv\")"
   ]
  },
  {
   "cell_type": "markdown",
   "metadata": {},
   "source": [
    "### Adding the metadata if needed\n",
    "Things like sample names (more descriptive), internal codes, who collected the spectrum, and some additional comments"
   ]
  },
  {
   "cell_type": "code",
   "execution_count": 4,
   "metadata": {},
   "outputs": [],
   "source": [
    "fluorescence.add_metadata(\n",
    "    identifier=\"S1\", \n",
    "    sample_name=\"Olive oil Sovena\", # replaces the current name\n",
    "    internal_code=\"S23_1\", \n",
    "    collected_by=\"Amulya\", \n",
    "    comments=\"There was a mistake with this measurement\"\n",
    ")\n",
    "\n",
    "\n",
    "fluorescence.add_metadata(\n",
    "    identifier=\"S2\", \n",
    "    sample_name=\"Lubricant Sovena\", \n",
    "    internal_code=\"S22_4\", \n",
    "    collected_by=\"Fabio\", \n",
    "    comments=\"This is the right measurement\"\n",
    ")"
   ]
  },
  {
   "cell_type": "code",
   "execution_count": null,
   "metadata": {},
   "outputs": [],
   "source": [
    "fluorescence.df"
   ]
  },
  {
   "cell_type": "markdown",
   "metadata": {},
   "source": [
    "### Deleting the measurements"
   ]
  },
  {
   "cell_type": "code",
   "execution_count": 6,
   "metadata": {},
   "outputs": [],
   "source": [
    "fluorescence.delete_measurement(\"S3\")\n"
   ]
  },
  {
   "cell_type": "code",
   "execution_count": null,
   "metadata": {},
   "outputs": [],
   "source": [
    "fluorescence.df"
   ]
  },
  {
   "cell_type": "markdown",
   "metadata": {},
   "source": [
    "### Creating a plot"
   ]
  },
  {
   "cell_type": "code",
   "execution_count": null,
   "metadata": {},
   "outputs": [],
   "source": [
    "fig = contourplot(fluorescence, \"S4\")\n",
    "fig.show(renderer=\"notebook\")"
   ]
  },
  {
   "cell_type": "markdown",
   "metadata": {},
   "source": [
    "## For FTIR data"
   ]
  },
  {
   "cell_type": "code",
   "execution_count": null,
   "metadata": {},
   "outputs": [],
   "source": [
    "ftir = FTIRDataLoader(\"Example.SPA\")"
   ]
  },
  {
   "cell_type": "code",
   "execution_count": 10,
   "metadata": {},
   "outputs": [],
   "source": [
    "ftir.add_metadata(\n",
    "    sample_name=\"Olive oil\", \n",
    "    internal_code=\"S23_5\", \n",
    "    collected_by=\"Fabio\", \n",
    "    comments=\"Reptition 3\"\n",
    ")"
   ]
  },
  {
   "cell_type": "code",
   "execution_count": null,
   "metadata": {},
   "outputs": [],
   "source": [
    "ftir.df"
   ]
  },
  {
   "cell_type": "code",
   "execution_count": null,
   "metadata": {},
   "outputs": [],
   "source": [
    "fig = spectrum(ftir)\n",
    "fig.show(renderer=\"notebook\")"
   ]
  },
  {
   "cell_type": "markdown",
   "metadata": {},
   "source": [
    "## For NMR data"
   ]
  },
  {
   "cell_type": "code",
   "execution_count": null,
   "metadata": {},
   "outputs": [],
   "source": [
    "nmr = NMRDataLoader(\"Example.txt\")\n",
    "nmr.df"
   ]
  },
  {
   "cell_type": "code",
   "execution_count": 14,
   "metadata": {},
   "outputs": [],
   "source": [
    "nmr.add_metadata(\n",
    "    sample_name=\"test_example\", \n",
    "    internal_code=None,\n",
    "    collected_by=\"X\", \n",
    "    comments=\"This was a test\"\n",
    ")"
   ]
  },
  {
   "cell_type": "code",
   "execution_count": null,
   "metadata": {},
   "outputs": [],
   "source": [
    "nmr.df"
   ]
  },
  {
   "cell_type": "code",
   "execution_count": null,
   "metadata": {},
   "outputs": [],
   "source": [
    "fig = spectrum(nmr)\n",
    "fig.show(renderer=\"notebook\")"
   ]
  },
  {
   "cell_type": "code",
   "execution_count": null,
   "metadata": {},
   "outputs": [],
   "source": []
  }
 ],
 "metadata": {
  "kernelspec": {
   "display_name": ".venv",
   "language": "python",
   "name": "python3"
  },
  "language_info": {
   "codemirror_mode": {
    "name": "ipython",
    "version": 3
   },
   "file_extension": ".py",
   "mimetype": "text/x-python",
   "name": "python",
   "nbconvert_exporter": "python",
   "pygments_lexer": "ipython3",
   "version": "3.11.1"
  }
 },
 "nbformat": 4,
 "nbformat_minor": 2
}
