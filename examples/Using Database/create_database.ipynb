{
 "cells": [
  {
   "cell_type": "code",
   "execution_count": 1,
   "metadata": {},
   "outputs": [],
   "source": [
    "%load_ext autoreload\n",
    "%autoreload 2"
   ]
  },
  {
   "cell_type": "markdown",
   "metadata": {},
   "source": [
    "### Importing files"
   ]
  },
  {
   "cell_type": "code",
   "execution_count": 2,
   "metadata": {},
   "outputs": [],
   "source": [
    "from spectradb import Database\n",
    "from spectradb.dataloaders import FTIRDataLoader, FluorescenceDataLoader, NMRDataLoader\n",
    "from pathlib import Path\n",
    "import pandas as pd\n",
    "import sqlite3\n",
    "import os\n",
    "from IPython.display import display"
   ]
  },
  {
   "cell_type": "code",
   "execution_count": 3,
   "metadata": {},
   "outputs": [],
   "source": [
    "# Just a helper function to see what's inside the database\n",
    "def display_database()-> pd.DataFrame:\n",
    "    with sqlite3.connect(\"db.sqlite\") as conn:\n",
    "        df = pd.read_sql(\"SELECT * FROM measurements\", conn)\n",
    "    conn.close()  # unlike other context managers, turns out sqlite requires manual closing\n",
    "    return display(df)"
   ]
  },
  {
   "cell_type": "markdown",
   "metadata": {},
   "source": [
    "### Locating the data folder and creating the data object"
   ]
  },
  {
   "cell_type": "code",
   "execution_count": 4,
   "metadata": {},
   "outputs": [],
   "source": [
    "path = Path().resolve().parents[0]/\"Only Dataloaders\"\n",
    "data_path_ftir = path/\"Example.SPA\"\n",
    "data_path_fl = path/\"Example.csv\"\n",
    "data_path_nmr = path/\"Example.txt\""
   ]
  },
  {
   "cell_type": "code",
   "execution_count": 5,
   "metadata": {},
   "outputs": [
    {
     "name": "stdout",
     "output_type": "stream",
     "text": [
      "Data generated from FTIR spectrometer\n",
      "File:             Example\n"
     ]
    }
   ],
   "source": [
    "ftir = FTIRDataLoader(data_path_ftir)"
   ]
  },
  {
   "cell_type": "code",
   "execution_count": 6,
   "metadata": {},
   "outputs": [],
   "source": [
    "ftir.add_metadata(\n",
    "    sample_name=\"Sample X\", \n",
    "    internal_code=\"X\", \n",
    "    collected_by=\"X\", \n",
    "    comments=\"Correct measurement\"\n",
    ")"
   ]
  },
  {
   "cell_type": "markdown",
   "metadata": {},
   "source": [
    "There are two ways to create/access database: \n",
    "1) Using context manager\n",
    "2) Using the standard class"
   ]
  },
  {
   "cell_type": "markdown",
   "metadata": {},
   "source": [
    "### 1. Using context manager"
   ]
  },
  {
   "cell_type": "code",
   "execution_count": 7,
   "metadata": {},
   "outputs": [],
   "source": [
    "with Database(\"db.sqlite\") as db: \n",
    "    db.add_sample(ftir)"
   ]
  },
  {
   "cell_type": "code",
   "execution_count": 8,
   "metadata": {},
   "outputs": [
    {
     "data": {
      "text/html": [
       "<div>\n",
       "<style scoped>\n",
       "    .dataframe tbody tr th:only-of-type {\n",
       "        vertical-align: middle;\n",
       "    }\n",
       "\n",
       "    .dataframe tbody tr th {\n",
       "        vertical-align: top;\n",
       "    }\n",
       "\n",
       "    .dataframe thead th {\n",
       "        text-align: right;\n",
       "    }\n",
       "</style>\n",
       "<table border=\"1\" class=\"dataframe\">\n",
       "  <thead>\n",
       "    <tr style=\"text-align: right;\">\n",
       "      <th></th>\n",
       "      <th>measurement_id</th>\n",
       "      <th>sample_id</th>\n",
       "      <th>instrument_id</th>\n",
       "      <th>measurement_date</th>\n",
       "      <th>sample_name</th>\n",
       "      <th>internal_code</th>\n",
       "      <th>collected_by</th>\n",
       "      <th>comments</th>\n",
       "      <th>data</th>\n",
       "      <th>signal_metadata</th>\n",
       "      <th>date_added</th>\n",
       "    </tr>\n",
       "  </thead>\n",
       "  <tbody>\n",
       "    <tr>\n",
       "      <th>0</th>\n",
       "      <td>1</td>\n",
       "      <td>FTIR_1</td>\n",
       "      <td>FTIR</td>\n",
       "      <td>2024-09-16</td>\n",
       "      <td>Sample X</td>\n",
       "      <td>X</td>\n",
       "      <td>X</td>\n",
       "      <td>Correct measurement</td>\n",
       "      <td>[3.7390708923339844, 3.7333016395568848, 3.686...</td>\n",
       "      <td>{\"Wavenumbers\": [3999, 3997, 3995, 3993, 3991,...</td>\n",
       "      <td>2024-11-13 14:33:54</td>\n",
       "    </tr>\n",
       "  </tbody>\n",
       "</table>\n",
       "</div>"
      ],
      "text/plain": [
       "   measurement_id sample_id instrument_id measurement_date sample_name  \\\n",
       "0               1    FTIR_1          FTIR       2024-09-16    Sample X   \n",
       "\n",
       "  internal_code collected_by             comments  \\\n",
       "0             X            X  Correct measurement   \n",
       "\n",
       "                                                data  \\\n",
       "0  [3.7390708923339844, 3.7333016395568848, 3.686...   \n",
       "\n",
       "                                     signal_metadata           date_added  \n",
       "0  {\"Wavenumbers\": [3999, 3997, 3995, 3993, 3991,...  2024-11-13 14:33:54  "
      ]
     },
     "metadata": {},
     "output_type": "display_data"
    }
   ],
   "source": [
    "display_database()"
   ]
  },
  {
   "cell_type": "markdown",
   "metadata": {},
   "source": [
    "### 2. Using class"
   ]
  },
  {
   "cell_type": "code",
   "execution_count": 9,
   "metadata": {},
   "outputs": [],
   "source": [
    "os.remove(\"db.sqlite\")"
   ]
  },
  {
   "cell_type": "code",
   "execution_count": 10,
   "metadata": {},
   "outputs": [],
   "source": [
    "db = Database(\"db.sqlite\")\n",
    "db.open_connection()\n",
    "\n",
    "db.add_sample(ftir)"
   ]
  },
  {
   "cell_type": "code",
   "execution_count": 11,
   "metadata": {},
   "outputs": [
    {
     "data": {
      "text/html": [
       "<div>\n",
       "<style scoped>\n",
       "    .dataframe tbody tr th:only-of-type {\n",
       "        vertical-align: middle;\n",
       "    }\n",
       "\n",
       "    .dataframe tbody tr th {\n",
       "        vertical-align: top;\n",
       "    }\n",
       "\n",
       "    .dataframe thead th {\n",
       "        text-align: right;\n",
       "    }\n",
       "</style>\n",
       "<table border=\"1\" class=\"dataframe\">\n",
       "  <thead>\n",
       "    <tr style=\"text-align: right;\">\n",
       "      <th></th>\n",
       "      <th>measurement_id</th>\n",
       "      <th>sample_id</th>\n",
       "      <th>instrument_id</th>\n",
       "      <th>measurement_date</th>\n",
       "      <th>sample_name</th>\n",
       "      <th>internal_code</th>\n",
       "      <th>collected_by</th>\n",
       "      <th>comments</th>\n",
       "      <th>data</th>\n",
       "      <th>signal_metadata</th>\n",
       "      <th>date_added</th>\n",
       "    </tr>\n",
       "  </thead>\n",
       "  <tbody>\n",
       "    <tr>\n",
       "      <th>0</th>\n",
       "      <td>1</td>\n",
       "      <td>FTIR_1</td>\n",
       "      <td>FTIR</td>\n",
       "      <td>2024-09-16</td>\n",
       "      <td>Sample X</td>\n",
       "      <td>X</td>\n",
       "      <td>X</td>\n",
       "      <td>Correct measurement</td>\n",
       "      <td>[3.7390708923339844, 3.7333016395568848, 3.686...</td>\n",
       "      <td>{\"Wavenumbers\": [3999, 3997, 3995, 3993, 3991,...</td>\n",
       "      <td>2024-11-13 14:33:54</td>\n",
       "    </tr>\n",
       "  </tbody>\n",
       "</table>\n",
       "</div>"
      ],
      "text/plain": [
       "   measurement_id sample_id instrument_id measurement_date sample_name  \\\n",
       "0               1    FTIR_1          FTIR       2024-09-16    Sample X   \n",
       "\n",
       "  internal_code collected_by             comments  \\\n",
       "0             X            X  Correct measurement   \n",
       "\n",
       "                                                data  \\\n",
       "0  [3.7390708923339844, 3.7333016395568848, 3.686...   \n",
       "\n",
       "                                     signal_metadata           date_added  \n",
       "0  {\"Wavenumbers\": [3999, 3997, 3995, 3993, 3991,...  2024-11-13 14:33:54  "
      ]
     },
     "metadata": {},
     "output_type": "display_data"
    }
   ],
   "source": [
    "display_database()"
   ]
  },
  {
   "cell_type": "code",
   "execution_count": 12,
   "metadata": {},
   "outputs": [],
   "source": [
    "db.close_connection()"
   ]
  },
  {
   "cell_type": "markdown",
   "metadata": {},
   "source": [
    "### Trying to add the same sample twice"
   ]
  },
  {
   "cell_type": "code",
   "execution_count": 13,
   "metadata": {},
   "outputs": [
    {
     "name": "stdout",
     "output_type": "stream",
     "text": [
      "\u001b[91m┌───────────────────────────────────────────────┐\n",
      "│      ❗**Duplicate Entry Detected**❗        │\n",
      "│                                               │\n",
      "│ The data you're trying to add already exists. │\n",
      "│ Check the following for uniqueness:           │\n",
      "│ • Instrument ID                               │\n",
      "│ • Sample Name                                 │\n",
      "│ • Internal Sample Code                        │\n",
      "│                                               │\n",
      "│ Please update the information and try again.  │\n",
      "└───────────────────────────────────────────────┘\n",
      "\u001b[0m\n"
     ]
    }
   ],
   "source": [
    "with Database(\"db.sqlite\") as db: \n",
    "    db.add_sample(ftir)"
   ]
  },
  {
   "cell_type": "markdown",
   "metadata": {},
   "source": [
    "### Adding more data"
   ]
  },
  {
   "cell_type": "code",
   "execution_count": 14,
   "metadata": {},
   "outputs": [
    {
     "name": "stdout",
     "output_type": "stream",
     "text": [
      "Data generated from Agilent Cary Eclipse fluorescence spectrometer\n",
      "File: Example\n",
      "Samples:\n",
      "+------------------------------------------------------------+\n",
      "| Identifier | Sample Name                                   |\n",
      "+------------------------------------------------------------+\n",
      "| S1         | 19                                            |\n",
      "| S2         | 20                                            |\n",
      "| S3         | 21                                            |\n",
      "| S4         | 22                                            |\n",
      "+------------------------------------------------------------+\n"
     ]
    }
   ],
   "source": [
    "fl = FluorescenceDataLoader(data_path_fl)\n",
    "\n",
    "fl.add_metadata(\n",
    "    identifier=\"S1\", \n",
    "    sample_name=\"X\", # replaces the current name\n",
    "    internal_code=\"X\", \n",
    "    collected_by=\"X\", \n",
    "    comments=\"There was a mistake with this measurement\"\n",
    ")\n",
    "\n",
    "\n",
    "fl.add_metadata(\n",
    "    identifier=\"S2\", \n",
    "    sample_name=\"X\", \n",
    "    internal_code=\"X\", \n",
    "    collected_by=\"X\", \n",
    "    comments=\"This is the right measurement\"\n",
    ")"
   ]
  },
  {
   "cell_type": "code",
   "execution_count": 15,
   "metadata": {},
   "outputs": [],
   "source": [
    "with Database(\"db.sqlite\") as db:\n",
    "    db.add_sample(fl)"
   ]
  },
  {
   "cell_type": "code",
   "execution_count": 16,
   "metadata": {},
   "outputs": [
    {
     "data": {
      "text/html": [
       "<div>\n",
       "<style scoped>\n",
       "    .dataframe tbody tr th:only-of-type {\n",
       "        vertical-align: middle;\n",
       "    }\n",
       "\n",
       "    .dataframe tbody tr th {\n",
       "        vertical-align: top;\n",
       "    }\n",
       "\n",
       "    .dataframe thead th {\n",
       "        text-align: right;\n",
       "    }\n",
       "</style>\n",
       "<table border=\"1\" class=\"dataframe\">\n",
       "  <thead>\n",
       "    <tr style=\"text-align: right;\">\n",
       "      <th></th>\n",
       "      <th>measurement_id</th>\n",
       "      <th>sample_id</th>\n",
       "      <th>instrument_id</th>\n",
       "      <th>measurement_date</th>\n",
       "      <th>sample_name</th>\n",
       "      <th>internal_code</th>\n",
       "      <th>collected_by</th>\n",
       "      <th>comments</th>\n",
       "      <th>data</th>\n",
       "      <th>signal_metadata</th>\n",
       "      <th>date_added</th>\n",
       "    </tr>\n",
       "  </thead>\n",
       "  <tbody>\n",
       "    <tr>\n",
       "      <th>0</th>\n",
       "      <td>1</td>\n",
       "      <td>FTIR_1</td>\n",
       "      <td>FTIR</td>\n",
       "      <td>2024-09-16</td>\n",
       "      <td>Sample X</td>\n",
       "      <td>X</td>\n",
       "      <td>X</td>\n",
       "      <td>Correct measurement</td>\n",
       "      <td>[3.7390708923339844, 3.7333016395568848, 3.686...</td>\n",
       "      <td>{\"Wavenumbers\": [3999, 3997, 3995, 3993, 3991,...</td>\n",
       "      <td>2024-11-13 14:33:54</td>\n",
       "    </tr>\n",
       "    <tr>\n",
       "      <th>1</th>\n",
       "      <td>2</td>\n",
       "      <td>FL_1</td>\n",
       "      <td>FL</td>\n",
       "      <td>2024-09-18</td>\n",
       "      <td>X</td>\n",
       "      <td>X</td>\n",
       "      <td>X</td>\n",
       "      <td>There was a mistake with this measurement</td>\n",
       "      <td>[[2.941176414489746, 2.915452003479004, 0.0, -...</td>\n",
       "      <td>{\"Excitation\": [200, 205, 210, 215, 220, 225, ...</td>\n",
       "      <td>2024-11-13 14:33:55</td>\n",
       "    </tr>\n",
       "    <tr>\n",
       "      <th>2</th>\n",
       "      <td>3</td>\n",
       "      <td>FL_2</td>\n",
       "      <td>FL</td>\n",
       "      <td>2024-09-18</td>\n",
       "      <td>X</td>\n",
       "      <td>X</td>\n",
       "      <td>X</td>\n",
       "      <td>This is the right measurement</td>\n",
       "      <td>[[2.9585800170898438, 8.902077674865723, 0.0, ...</td>\n",
       "      <td>{\"Excitation\": [200, 205, 210, 215, 220, 225, ...</td>\n",
       "      <td>2024-11-13 14:33:55</td>\n",
       "    </tr>\n",
       "    <tr>\n",
       "      <th>3</th>\n",
       "      <td>4</td>\n",
       "      <td>FL_3</td>\n",
       "      <td>FL</td>\n",
       "      <td>2024-09-18</td>\n",
       "      <td>21</td>\n",
       "      <td></td>\n",
       "      <td></td>\n",
       "      <td></td>\n",
       "      <td>[[2.949852466583252, 0.0, 0.0, 3.0395138263702...</td>\n",
       "      <td>{\"Excitation\": [200, 205, 210, 215, 220, 225, ...</td>\n",
       "      <td>2024-11-13 14:33:55</td>\n",
       "    </tr>\n",
       "    <tr>\n",
       "      <th>4</th>\n",
       "      <td>5</td>\n",
       "      <td>FL_4</td>\n",
       "      <td>FL</td>\n",
       "      <td>2024-09-18</td>\n",
       "      <td>22</td>\n",
       "      <td></td>\n",
       "      <td></td>\n",
       "      <td></td>\n",
       "      <td>[[18.348623275756836, 0.0, 0.0, 0.0, 3.0769231...</td>\n",
       "      <td>{\"Excitation\": [200, 205, 210, 215, 220, 225, ...</td>\n",
       "      <td>2024-11-13 14:33:55</td>\n",
       "    </tr>\n",
       "  </tbody>\n",
       "</table>\n",
       "</div>"
      ],
      "text/plain": [
       "   measurement_id sample_id instrument_id measurement_date sample_name  \\\n",
       "0               1    FTIR_1          FTIR       2024-09-16    Sample X   \n",
       "1               2      FL_1            FL       2024-09-18           X   \n",
       "2               3      FL_2            FL       2024-09-18           X   \n",
       "3               4      FL_3            FL       2024-09-18          21   \n",
       "4               5      FL_4            FL       2024-09-18          22   \n",
       "\n",
       "  internal_code collected_by                                   comments  \\\n",
       "0             X            X                        Correct measurement   \n",
       "1             X            X  There was a mistake with this measurement   \n",
       "2             X            X              This is the right measurement   \n",
       "3                                                                         \n",
       "4                                                                         \n",
       "\n",
       "                                                data  \\\n",
       "0  [3.7390708923339844, 3.7333016395568848, 3.686...   \n",
       "1  [[2.941176414489746, 2.915452003479004, 0.0, -...   \n",
       "2  [[2.9585800170898438, 8.902077674865723, 0.0, ...   \n",
       "3  [[2.949852466583252, 0.0, 0.0, 3.0395138263702...   \n",
       "4  [[18.348623275756836, 0.0, 0.0, 0.0, 3.0769231...   \n",
       "\n",
       "                                     signal_metadata           date_added  \n",
       "0  {\"Wavenumbers\": [3999, 3997, 3995, 3993, 3991,...  2024-11-13 14:33:54  \n",
       "1  {\"Excitation\": [200, 205, 210, 215, 220, 225, ...  2024-11-13 14:33:55  \n",
       "2  {\"Excitation\": [200, 205, 210, 215, 220, 225, ...  2024-11-13 14:33:55  \n",
       "3  {\"Excitation\": [200, 205, 210, 215, 220, 225, ...  2024-11-13 14:33:55  \n",
       "4  {\"Excitation\": [200, 205, 210, 215, 220, 225, ...  2024-11-13 14:33:55  "
      ]
     },
     "metadata": {},
     "output_type": "display_data"
    }
   ],
   "source": [
    "display_database()"
   ]
  },
  {
   "cell_type": "markdown",
   "metadata": {},
   "source": [
    "### Adding more data"
   ]
  },
  {
   "cell_type": "code",
   "execution_count": 17,
   "metadata": {},
   "outputs": [
    {
     "name": "stdout",
     "output_type": "stream",
     "text": [
      "Data generated from Bruker NMR (in .txt format)              \n",
      "File: Example\n"
     ]
    }
   ],
   "source": [
    "nmr = NMRDataLoader(data_path_nmr)\n",
    "nmr.add_metadata(\n",
    "    sample_name=\"X\",\n",
    "    internal_code=\"X\",\n",
    "    collected_by=\"X\",\n",
    "    comments=\"X\"\n",
    ")"
   ]
  },
  {
   "cell_type": "code",
   "execution_count": 18,
   "metadata": {},
   "outputs": [],
   "source": [
    "with Database(\"db.sqlite\") as db:\n",
    "    db.add_sample(nmr)"
   ]
  },
  {
   "cell_type": "code",
   "execution_count": 19,
   "metadata": {},
   "outputs": [
    {
     "data": {
      "text/html": [
       "<div>\n",
       "<style scoped>\n",
       "    .dataframe tbody tr th:only-of-type {\n",
       "        vertical-align: middle;\n",
       "    }\n",
       "\n",
       "    .dataframe tbody tr th {\n",
       "        vertical-align: top;\n",
       "    }\n",
       "\n",
       "    .dataframe thead th {\n",
       "        text-align: right;\n",
       "    }\n",
       "</style>\n",
       "<table border=\"1\" class=\"dataframe\">\n",
       "  <thead>\n",
       "    <tr style=\"text-align: right;\">\n",
       "      <th></th>\n",
       "      <th>measurement_id</th>\n",
       "      <th>sample_id</th>\n",
       "      <th>instrument_id</th>\n",
       "      <th>measurement_date</th>\n",
       "      <th>sample_name</th>\n",
       "      <th>internal_code</th>\n",
       "      <th>collected_by</th>\n",
       "      <th>comments</th>\n",
       "      <th>data</th>\n",
       "      <th>signal_metadata</th>\n",
       "      <th>date_added</th>\n",
       "    </tr>\n",
       "  </thead>\n",
       "  <tbody>\n",
       "    <tr>\n",
       "      <th>0</th>\n",
       "      <td>1</td>\n",
       "      <td>FTIR_1</td>\n",
       "      <td>FTIR</td>\n",
       "      <td>2024-09-16</td>\n",
       "      <td>Sample X</td>\n",
       "      <td>X</td>\n",
       "      <td>X</td>\n",
       "      <td>Correct measurement</td>\n",
       "      <td>[3.7390708923339844, 3.7333016395568848, 3.686...</td>\n",
       "      <td>{\"Wavenumbers\": [3999, 3997, 3995, 3993, 3991,...</td>\n",
       "      <td>2024-11-13 14:33:54</td>\n",
       "    </tr>\n",
       "    <tr>\n",
       "      <th>1</th>\n",
       "      <td>2</td>\n",
       "      <td>FL_1</td>\n",
       "      <td>FL</td>\n",
       "      <td>2024-09-18</td>\n",
       "      <td>X</td>\n",
       "      <td>X</td>\n",
       "      <td>X</td>\n",
       "      <td>There was a mistake with this measurement</td>\n",
       "      <td>[[2.941176414489746, 2.915452003479004, 0.0, -...</td>\n",
       "      <td>{\"Excitation\": [200, 205, 210, 215, 220, 225, ...</td>\n",
       "      <td>2024-11-13 14:33:55</td>\n",
       "    </tr>\n",
       "    <tr>\n",
       "      <th>2</th>\n",
       "      <td>3</td>\n",
       "      <td>FL_2</td>\n",
       "      <td>FL</td>\n",
       "      <td>2024-09-18</td>\n",
       "      <td>X</td>\n",
       "      <td>X</td>\n",
       "      <td>X</td>\n",
       "      <td>This is the right measurement</td>\n",
       "      <td>[[2.9585800170898438, 8.902077674865723, 0.0, ...</td>\n",
       "      <td>{\"Excitation\": [200, 205, 210, 215, 220, 225, ...</td>\n",
       "      <td>2024-11-13 14:33:55</td>\n",
       "    </tr>\n",
       "    <tr>\n",
       "      <th>3</th>\n",
       "      <td>4</td>\n",
       "      <td>FL_3</td>\n",
       "      <td>FL</td>\n",
       "      <td>2024-09-18</td>\n",
       "      <td>21</td>\n",
       "      <td></td>\n",
       "      <td></td>\n",
       "      <td></td>\n",
       "      <td>[[2.949852466583252, 0.0, 0.0, 3.0395138263702...</td>\n",
       "      <td>{\"Excitation\": [200, 205, 210, 215, 220, 225, ...</td>\n",
       "      <td>2024-11-13 14:33:55</td>\n",
       "    </tr>\n",
       "    <tr>\n",
       "      <th>4</th>\n",
       "      <td>5</td>\n",
       "      <td>FL_4</td>\n",
       "      <td>FL</td>\n",
       "      <td>2024-09-18</td>\n",
       "      <td>22</td>\n",
       "      <td></td>\n",
       "      <td></td>\n",
       "      <td></td>\n",
       "      <td>[[18.348623275756836, 0.0, 0.0, 0.0, 3.0769231...</td>\n",
       "      <td>{\"Excitation\": [200, 205, 210, 215, 220, 225, ...</td>\n",
       "      <td>2024-11-13 14:33:55</td>\n",
       "    </tr>\n",
       "    <tr>\n",
       "      <th>5</th>\n",
       "      <td>6</td>\n",
       "      <td>NMR_1</td>\n",
       "      <td>NMR</td>\n",
       "      <td>2024-09-16</td>\n",
       "      <td>X</td>\n",
       "      <td>X</td>\n",
       "      <td>X</td>\n",
       "      <td>X</td>\n",
       "      <td>[-6039.0, -7892.0, -15370.0, -5578.0, 10705.0,...</td>\n",
       "      <td>{\"ppm\": [16.428625106811523, 16.42799949645996...</td>\n",
       "      <td>2024-11-13 14:33:55</td>\n",
       "    </tr>\n",
       "  </tbody>\n",
       "</table>\n",
       "</div>"
      ],
      "text/plain": [
       "   measurement_id sample_id instrument_id measurement_date sample_name  \\\n",
       "0               1    FTIR_1          FTIR       2024-09-16    Sample X   \n",
       "1               2      FL_1            FL       2024-09-18           X   \n",
       "2               3      FL_2            FL       2024-09-18           X   \n",
       "3               4      FL_3            FL       2024-09-18          21   \n",
       "4               5      FL_4            FL       2024-09-18          22   \n",
       "5               6     NMR_1           NMR       2024-09-16           X   \n",
       "\n",
       "  internal_code collected_by                                   comments  \\\n",
       "0             X            X                        Correct measurement   \n",
       "1             X            X  There was a mistake with this measurement   \n",
       "2             X            X              This is the right measurement   \n",
       "3                                                                         \n",
       "4                                                                         \n",
       "5             X            X                                          X   \n",
       "\n",
       "                                                data  \\\n",
       "0  [3.7390708923339844, 3.7333016395568848, 3.686...   \n",
       "1  [[2.941176414489746, 2.915452003479004, 0.0, -...   \n",
       "2  [[2.9585800170898438, 8.902077674865723, 0.0, ...   \n",
       "3  [[2.949852466583252, 0.0, 0.0, 3.0395138263702...   \n",
       "4  [[18.348623275756836, 0.0, 0.0, 0.0, 3.0769231...   \n",
       "5  [-6039.0, -7892.0, -15370.0, -5578.0, 10705.0,...   \n",
       "\n",
       "                                     signal_metadata           date_added  \n",
       "0  {\"Wavenumbers\": [3999, 3997, 3995, 3993, 3991,...  2024-11-13 14:33:54  \n",
       "1  {\"Excitation\": [200, 205, 210, 215, 220, 225, ...  2024-11-13 14:33:55  \n",
       "2  {\"Excitation\": [200, 205, 210, 215, 220, 225, ...  2024-11-13 14:33:55  \n",
       "3  {\"Excitation\": [200, 205, 210, 215, 220, 225, ...  2024-11-13 14:33:55  \n",
       "4  {\"Excitation\": [200, 205, 210, 215, 220, 225, ...  2024-11-13 14:33:55  \n",
       "5  {\"ppm\": [16.428625106811523, 16.42799949645996...  2024-11-13 14:33:55  "
      ]
     },
     "metadata": {},
     "output_type": "display_data"
    }
   ],
   "source": [
    "display_database()"
   ]
  },
  {
   "cell_type": "markdown",
   "metadata": {},
   "source": [
    "### Getting specific instrument and sample data"
   ]
  },
  {
   "cell_type": "code",
   "execution_count": 20,
   "metadata": {},
   "outputs": [
    {
     "data": {
      "text/html": [
       "<div>\n",
       "<style scoped>\n",
       "    .dataframe tbody tr th:only-of-type {\n",
       "        vertical-align: middle;\n",
       "    }\n",
       "\n",
       "    .dataframe tbody tr th {\n",
       "        vertical-align: top;\n",
       "    }\n",
       "\n",
       "    .dataframe thead th {\n",
       "        text-align: right;\n",
       "    }\n",
       "</style>\n",
       "<table border=\"1\" class=\"dataframe\">\n",
       "  <thead>\n",
       "    <tr style=\"text-align: right;\">\n",
       "      <th></th>\n",
       "      <th>measurement_id</th>\n",
       "      <th>sample_id</th>\n",
       "      <th>instrument_id</th>\n",
       "      <th>measurement_date</th>\n",
       "      <th>sample_name</th>\n",
       "      <th>internal_code</th>\n",
       "      <th>collected_by</th>\n",
       "      <th>comments</th>\n",
       "      <th>data</th>\n",
       "      <th>signal_metadata</th>\n",
       "      <th>date_added</th>\n",
       "    </tr>\n",
       "  </thead>\n",
       "  <tbody>\n",
       "    <tr>\n",
       "      <th>0</th>\n",
       "      <td>4</td>\n",
       "      <td>FL_3</td>\n",
       "      <td>FL</td>\n",
       "      <td>2024-09-18</td>\n",
       "      <td>21</td>\n",
       "      <td></td>\n",
       "      <td></td>\n",
       "      <td></td>\n",
       "      <td>[[2.949852466583252, 0.0, 0.0, 3.0395138263702...</td>\n",
       "      <td>{\"Excitation\": [200, 205, 210, 215, 220, 225, ...</td>\n",
       "      <td>2024-11-13 14:33:55</td>\n",
       "    </tr>\n",
       "  </tbody>\n",
       "</table>\n",
       "</div>"
      ],
      "text/plain": [
       "   measurement_id sample_id instrument_id measurement_date sample_name  \\\n",
       "0               4      FL_3            FL       2024-09-18          21   \n",
       "\n",
       "  internal_code collected_by comments  \\\n",
       "0                                       \n",
       "\n",
       "                                                data  \\\n",
       "0  [[2.949852466583252, 0.0, 0.0, 3.0395138263702...   \n",
       "\n",
       "                                     signal_metadata           date_added  \n",
       "0  {\"Excitation\": [200, 205, 210, 215, 220, 225, ...  2024-11-13 14:33:55  "
      ]
     },
     "metadata": {},
     "output_type": "display_data"
    }
   ],
   "source": [
    "with Database(\"db.sqlite\") as db:\n",
    "    df = db.get_data_by_instrument_and_sample(\"measurements\", \"FL\", \"21\")\n",
    "    display(df)"
   ]
  },
  {
   "cell_type": "markdown",
   "metadata": {},
   "source": [
    "### Executing a custom query"
   ]
  },
  {
   "cell_type": "code",
   "execution_count": 21,
   "metadata": {},
   "outputs": [
    {
     "data": {
      "text/html": [
       "<div>\n",
       "<style scoped>\n",
       "    .dataframe tbody tr th:only-of-type {\n",
       "        vertical-align: middle;\n",
       "    }\n",
       "\n",
       "    .dataframe tbody tr th {\n",
       "        vertical-align: top;\n",
       "    }\n",
       "\n",
       "    .dataframe thead th {\n",
       "        text-align: right;\n",
       "    }\n",
       "</style>\n",
       "<table border=\"1\" class=\"dataframe\">\n",
       "  <thead>\n",
       "    <tr style=\"text-align: right;\">\n",
       "      <th></th>\n",
       "      <th>measurement_id</th>\n",
       "      <th>sample_id</th>\n",
       "      <th>instrument_id</th>\n",
       "      <th>measurement_date</th>\n",
       "      <th>sample_name</th>\n",
       "      <th>internal_code</th>\n",
       "      <th>collected_by</th>\n",
       "      <th>comments</th>\n",
       "      <th>data</th>\n",
       "      <th>signal_metadata</th>\n",
       "      <th>date_added</th>\n",
       "    </tr>\n",
       "  </thead>\n",
       "  <tbody>\n",
       "    <tr>\n",
       "      <th>0</th>\n",
       "      <td>1</td>\n",
       "      <td>FTIR_1</td>\n",
       "      <td>FTIR</td>\n",
       "      <td>2024-09-16</td>\n",
       "      <td>Sample X</td>\n",
       "      <td>X</td>\n",
       "      <td>X</td>\n",
       "      <td>Correct measurement</td>\n",
       "      <td>[3.7390708923339844, 3.7333016395568848, 3.686...</td>\n",
       "      <td>{\"Wavenumbers\": [3999, 3997, 3995, 3993, 3991,...</td>\n",
       "      <td>2024-11-13 14:33:54</td>\n",
       "    </tr>\n",
       "    <tr>\n",
       "      <th>1</th>\n",
       "      <td>2</td>\n",
       "      <td>FL_1</td>\n",
       "      <td>FL</td>\n",
       "      <td>2024-09-18</td>\n",
       "      <td>X</td>\n",
       "      <td>X</td>\n",
       "      <td>X</td>\n",
       "      <td>There was a mistake with this measurement</td>\n",
       "      <td>[[2.941176414489746, 2.915452003479004, 0.0, -...</td>\n",
       "      <td>{\"Excitation\": [200, 205, 210, 215, 220, 225, ...</td>\n",
       "      <td>2024-11-13 14:33:55</td>\n",
       "    </tr>\n",
       "    <tr>\n",
       "      <th>2</th>\n",
       "      <td>3</td>\n",
       "      <td>FL_2</td>\n",
       "      <td>FL</td>\n",
       "      <td>2024-09-18</td>\n",
       "      <td>X</td>\n",
       "      <td>X</td>\n",
       "      <td>X</td>\n",
       "      <td>This is the right measurement</td>\n",
       "      <td>[[2.9585800170898438, 8.902077674865723, 0.0, ...</td>\n",
       "      <td>{\"Excitation\": [200, 205, 210, 215, 220, 225, ...</td>\n",
       "      <td>2024-11-13 14:33:55</td>\n",
       "    </tr>\n",
       "    <tr>\n",
       "      <th>3</th>\n",
       "      <td>4</td>\n",
       "      <td>FL_3</td>\n",
       "      <td>FL</td>\n",
       "      <td>2024-09-18</td>\n",
       "      <td>21</td>\n",
       "      <td></td>\n",
       "      <td></td>\n",
       "      <td></td>\n",
       "      <td>[[2.949852466583252, 0.0, 0.0, 3.0395138263702...</td>\n",
       "      <td>{\"Excitation\": [200, 205, 210, 215, 220, 225, ...</td>\n",
       "      <td>2024-11-13 14:33:55</td>\n",
       "    </tr>\n",
       "    <tr>\n",
       "      <th>4</th>\n",
       "      <td>5</td>\n",
       "      <td>FL_4</td>\n",
       "      <td>FL</td>\n",
       "      <td>2024-09-18</td>\n",
       "      <td>22</td>\n",
       "      <td></td>\n",
       "      <td></td>\n",
       "      <td></td>\n",
       "      <td>[[18.348623275756836, 0.0, 0.0, 0.0, 3.0769231...</td>\n",
       "      <td>{\"Excitation\": [200, 205, 210, 215, 220, 225, ...</td>\n",
       "      <td>2024-11-13 14:33:55</td>\n",
       "    </tr>\n",
       "    <tr>\n",
       "      <th>5</th>\n",
       "      <td>6</td>\n",
       "      <td>NMR_1</td>\n",
       "      <td>NMR</td>\n",
       "      <td>2024-09-16</td>\n",
       "      <td>X</td>\n",
       "      <td>X</td>\n",
       "      <td>X</td>\n",
       "      <td>X</td>\n",
       "      <td>[-6039.0, -7892.0, -15370.0, -5578.0, 10705.0,...</td>\n",
       "      <td>{\"ppm\": [16.428625106811523, 16.42799949645996...</td>\n",
       "      <td>2024-11-13 14:33:55</td>\n",
       "    </tr>\n",
       "  </tbody>\n",
       "</table>\n",
       "</div>"
      ],
      "text/plain": [
       "   measurement_id sample_id instrument_id measurement_date sample_name  \\\n",
       "0               1    FTIR_1          FTIR       2024-09-16    Sample X   \n",
       "1               2      FL_1            FL       2024-09-18           X   \n",
       "2               3      FL_2            FL       2024-09-18           X   \n",
       "3               4      FL_3            FL       2024-09-18          21   \n",
       "4               5      FL_4            FL       2024-09-18          22   \n",
       "5               6     NMR_1           NMR       2024-09-16           X   \n",
       "\n",
       "  internal_code collected_by                                   comments  \\\n",
       "0             X            X                        Correct measurement   \n",
       "1             X            X  There was a mistake with this measurement   \n",
       "2             X            X              This is the right measurement   \n",
       "3                                                                         \n",
       "4                                                                         \n",
       "5             X            X                                          X   \n",
       "\n",
       "                                                data  \\\n",
       "0  [3.7390708923339844, 3.7333016395568848, 3.686...   \n",
       "1  [[2.941176414489746, 2.915452003479004, 0.0, -...   \n",
       "2  [[2.9585800170898438, 8.902077674865723, 0.0, ...   \n",
       "3  [[2.949852466583252, 0.0, 0.0, 3.0395138263702...   \n",
       "4  [[18.348623275756836, 0.0, 0.0, 0.0, 3.0769231...   \n",
       "5  [-6039.0, -7892.0, -15370.0, -5578.0, 10705.0,...   \n",
       "\n",
       "                                     signal_metadata           date_added  \n",
       "0  {\"Wavenumbers\": [3999, 3997, 3995, 3993, 3991,...  2024-11-13 14:33:54  \n",
       "1  {\"Excitation\": [200, 205, 210, 215, 220, 225, ...  2024-11-13 14:33:55  \n",
       "2  {\"Excitation\": [200, 205, 210, 215, 220, 225, ...  2024-11-13 14:33:55  \n",
       "3  {\"Excitation\": [200, 205, 210, 215, 220, 225, ...  2024-11-13 14:33:55  \n",
       "4  {\"Excitation\": [200, 205, 210, 215, 220, 225, ...  2024-11-13 14:33:55  \n",
       "5  {\"ppm\": [16.428625106811523, 16.42799949645996...  2024-11-13 14:33:55  "
      ]
     },
     "execution_count": 21,
     "metadata": {},
     "output_type": "execute_result"
    }
   ],
   "source": [
    "with Database(\"db.sqlite\") as db:\n",
    "    result = db.execute_custom_query(\"SELECT * FROM measurements\")\n",
    "    data, col = result\n",
    "df = pd.DataFrame(data, columns=col)\n",
    "df"
   ]
  }
 ],
 "metadata": {
  "kernelspec": {
   "display_name": "env",
   "language": "python",
   "name": "python3"
  },
  "language_info": {
   "codemirror_mode": {
    "name": "ipython",
    "version": 3
   },
   "file_extension": ".py",
   "mimetype": "text/x-python",
   "name": "python",
   "nbconvert_exporter": "python",
   "pygments_lexer": "ipython3",
   "version": "3.11.1"
  }
 },
 "nbformat": 4,
 "nbformat_minor": 2
}
