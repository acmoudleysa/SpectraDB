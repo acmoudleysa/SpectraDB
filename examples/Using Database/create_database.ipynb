{
 "cells": [
  {
   "cell_type": "code",
   "execution_count": 1,
   "metadata": {},
   "outputs": [],
   "source": [
    "%load_ext autoreload\n",
    "%autoreload 2"
   ]
  },
  {
   "cell_type": "code",
   "execution_count": 2,
   "metadata": {},
   "outputs": [],
   "source": [
    "from spectradb.main import Database\n",
    "from spectradb.dataloaders import FTIRDataLoader\n",
    "from pathlib import Path\n",
    "import pandas as pd\n",
    "import sqlite3"
   ]
  },
  {
   "cell_type": "code",
   "execution_count": 3,
   "metadata": {},
   "outputs": [],
   "source": [
    "path = Path().resolve().parents[0]\n",
    "data_path = path/\"Only Dataloaders\"/\"Example.SPA\""
   ]
  },
  {
   "cell_type": "code",
   "execution_count": 4,
   "metadata": {},
   "outputs": [
    {
     "name": "stdout",
     "output_type": "stream",
     "text": [
      "Data generated from FTIR spectrometer\n",
      "File: Example\n"
     ]
    }
   ],
   "source": [
    "ftir = FTIRDataLoader(data_path)"
   ]
  },
  {
   "cell_type": "code",
   "execution_count": 5,
   "metadata": {},
   "outputs": [],
   "source": [
    "with Database(\"db.sqlite\") as db: \n",
    "    db.add_sample(ftir)"
   ]
  },
  {
   "cell_type": "code",
   "execution_count": 6,
   "metadata": {},
   "outputs": [
    {
     "data": {
      "text/html": [
       "<div>\n",
       "<style scoped>\n",
       "    .dataframe tbody tr th:only-of-type {\n",
       "        vertical-align: middle;\n",
       "    }\n",
       "\n",
       "    .dataframe tbody tr th {\n",
       "        vertical-align: top;\n",
       "    }\n",
       "\n",
       "    .dataframe thead th {\n",
       "        text-align: right;\n",
       "    }\n",
       "</style>\n",
       "<table border=\"1\" class=\"dataframe\">\n",
       "  <thead>\n",
       "    <tr style=\"text-align: right;\">\n",
       "      <th></th>\n",
       "      <th>measurement_id</th>\n",
       "      <th>instrument_id</th>\n",
       "      <th>measurement_date</th>\n",
       "      <th>sample_name</th>\n",
       "      <th>internal_code</th>\n",
       "      <th>collected_by</th>\n",
       "      <th>comments</th>\n",
       "      <th>data</th>\n",
       "      <th>signal_metadata</th>\n",
       "    </tr>\n",
       "  </thead>\n",
       "  <tbody>\n",
       "    <tr>\n",
       "      <th>0</th>\n",
       "      <td>1</td>\n",
       "      <td>FTIR</td>\n",
       "      <td>2024-03-24</td>\n",
       "      <td>NA</td>\n",
       "      <td>NA</td>\n",
       "      <td>NA</td>\n",
       "      <td>NA</td>\n",
       "      <td>[3.7390708923339844, 3.7333016395568848, 3.686...</td>\n",
       "      <td>{\"Wavenumbers\": [3999, 3997, 3995, 3993, 3991,...</td>\n",
       "    </tr>\n",
       "    <tr>\n",
       "      <th>1</th>\n",
       "      <td>2</td>\n",
       "      <td>FTIR</td>\n",
       "      <td>2024-03-24</td>\n",
       "      <td>NA</td>\n",
       "      <td>NA</td>\n",
       "      <td>NA</td>\n",
       "      <td>NA</td>\n",
       "      <td>[3.7390708923339844, 3.7333016395568848, 3.686...</td>\n",
       "      <td>{\"Wavenumbers\": [3999, 3997, 3995, 3993, 3991,...</td>\n",
       "    </tr>\n",
       "  </tbody>\n",
       "</table>\n",
       "</div>"
      ],
      "text/plain": [
       "   measurement_id instrument_id measurement_date sample_name internal_code  \\\n",
       "0               1          FTIR       2024-03-24          NA            NA   \n",
       "1               2          FTIR       2024-03-24          NA            NA   \n",
       "\n",
       "  collected_by comments                                               data  \\\n",
       "0           NA       NA  [3.7390708923339844, 3.7333016395568848, 3.686...   \n",
       "1           NA       NA  [3.7390708923339844, 3.7333016395568848, 3.686...   \n",
       "\n",
       "                                     signal_metadata  \n",
       "0  {\"Wavenumbers\": [3999, 3997, 3995, 3993, 3991,...  \n",
       "1  {\"Wavenumbers\": [3999, 3997, 3995, 3993, 3991,...  "
      ]
     },
     "execution_count": 6,
     "metadata": {},
     "output_type": "execute_result"
    }
   ],
   "source": [
    "conn = sqlite3.connect(\"db.sqlite\")\n",
    "pd.read_sql(\"SELECT * FROM measurements\", conn)"
   ]
  },
  {
   "cell_type": "code",
   "execution_count": null,
   "metadata": {},
   "outputs": [],
   "source": []
  }
 ],
 "metadata": {
  "kernelspec": {
   "display_name": ".venv",
   "language": "python",
   "name": "python3"
  },
  "language_info": {
   "codemirror_mode": {
    "name": "ipython",
    "version": 3
   },
   "file_extension": ".py",
   "mimetype": "text/x-python",
   "name": "python",
   "nbconvert_exporter": "python",
   "pygments_lexer": "ipython3",
   "version": "3.11.1"
  }
 },
 "nbformat": 4,
 "nbformat_minor": 2
}
