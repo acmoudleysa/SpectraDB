{
 "cells": [
  {
   "cell_type": "code",
   "execution_count": 1,
   "metadata": {},
   "outputs": [],
   "source": [
    "%load_ext autoreload\n",
    "%autoreload 2"
   ]
  },
  {
   "cell_type": "markdown",
   "metadata": {},
   "source": [
    "### Importing files"
   ]
  },
  {
   "cell_type": "code",
   "execution_count": 2,
   "metadata": {},
   "outputs": [],
   "source": [
    "from spectradb.main import Database\n",
    "from spectradb.dataloaders import FTIRDataLoader, FluorescenceDataLoader, NMRDataLoader\n",
    "from pathlib import Path\n",
    "import pandas as pd\n",
    "import sqlite3\n",
    "import os\n",
    "from IPython.display import display"
   ]
  },
  {
   "cell_type": "code",
   "execution_count": 3,
   "metadata": {},
   "outputs": [],
   "source": [
    "# Just a helper function to see what's inside the database\n",
    "def display_database()-> pd.DataFrame: \n",
    "    with sqlite3.connect(\"db.sqlite\") as conn:  \n",
    "        df = pd.read_sql(\"SELECT * FROM measurements\", conn)\n",
    "    conn.close()  # unlike other context managers, turns out sqlite requires manual closing\n",
    "    return display(df)\n",
    "    "
   ]
  },
  {
   "cell_type": "markdown",
   "metadata": {},
   "source": [
    "### Locating the data folder and creating the data object"
   ]
  },
  {
   "cell_type": "code",
   "execution_count": 4,
   "metadata": {},
   "outputs": [],
   "source": [
    "path = Path().resolve().parents[0]/\"Only Dataloaders\"\n",
    "data_path_ftir = path/\"Example.SPA\"\n",
    "data_path_fl = path/\"Example.csv\"\n",
    "data_path_nmr = path/\"Example.txt\""
   ]
  },
  {
   "cell_type": "code",
   "execution_count": null,
   "metadata": {},
   "outputs": [],
   "source": [
    "ftir = FTIRDataLoader(data_path_ftir)"
   ]
  },
  {
   "cell_type": "code",
   "execution_count": 6,
   "metadata": {},
   "outputs": [],
   "source": [
    "ftir.add_metadata(\n",
    "    sample_name=\"Sample X\", \n",
    "    internal_code=\"S23\", \n",
    "    collected_by=\"X\", \n",
    "    comments=\"Correct measurement\"\n",
    ")"
   ]
  },
  {
   "cell_type": "markdown",
   "metadata": {},
   "source": [
    "There are two ways to create/access database: \n",
    "1) Using context manager\n",
    "2) Using the standard class"
   ]
  },
  {
   "cell_type": "markdown",
   "metadata": {},
   "source": [
    "### 1. Using context manager"
   ]
  },
  {
   "cell_type": "code",
   "execution_count": 7,
   "metadata": {},
   "outputs": [],
   "source": [
    "with Database(\"db.sqlite\") as db: \n",
    "    db.add_sample(ftir)"
   ]
  },
  {
   "cell_type": "code",
   "execution_count": null,
   "metadata": {},
   "outputs": [],
   "source": [
    "display_database()"
   ]
  },
  {
   "cell_type": "markdown",
   "metadata": {},
   "source": [
    "### 2. Using class"
   ]
  },
  {
   "cell_type": "code",
   "execution_count": 9,
   "metadata": {},
   "outputs": [],
   "source": [
    "os.remove(\"db.sqlite\")"
   ]
  },
  {
   "cell_type": "code",
   "execution_count": 10,
   "metadata": {},
   "outputs": [],
   "source": [
    "db = Database(\"db.sqlite\")\n",
    "db.open_connection()\n",
    "\n",
    "db.add_sample(ftir)"
   ]
  },
  {
   "cell_type": "code",
   "execution_count": null,
   "metadata": {},
   "outputs": [],
   "source": [
    "display_database()"
   ]
  },
  {
   "cell_type": "code",
   "execution_count": 12,
   "metadata": {},
   "outputs": [],
   "source": [
    "db.close_connection()"
   ]
  },
  {
   "cell_type": "markdown",
   "metadata": {},
   "source": [
    "### Trying to add the same sample twice"
   ]
  },
  {
   "cell_type": "code",
   "execution_count": null,
   "metadata": {},
   "outputs": [],
   "source": [
    "with Database(\"db.sqlite\") as db: \n",
    "    db.add_sample(ftir)"
   ]
  },
  {
   "cell_type": "markdown",
   "metadata": {},
   "source": [
    "### Adding more data"
   ]
  },
  {
   "cell_type": "code",
   "execution_count": null,
   "metadata": {},
   "outputs": [],
   "source": [
    "fl = FluorescenceDataLoader(data_path_fl)\n",
    "\n",
    "fl.add_metadata(\n",
    "    identifier=\"S1\", \n",
    "    sample_name=\"Olive oil Sovena\", # replaces the current name\n",
    "    internal_code=\"S23_1\", \n",
    "    collected_by=\"Amulya\", \n",
    "    comments=\"There was a mistake with this measurement\"\n",
    ")\n",
    "\n",
    "\n",
    "fl.add_metadata(\n",
    "    identifier=\"S2\", \n",
    "    sample_name=\"Lubricant Sovena\", \n",
    "    internal_code=\"S22_4\", \n",
    "    collected_by=\"Fabio\", \n",
    "    comments=\"This is the right measurement\"\n",
    ")"
   ]
  },
  {
   "cell_type": "code",
   "execution_count": 15,
   "metadata": {},
   "outputs": [],
   "source": [
    "with Database(\"db.sqlite\") as db: \n",
    "    db.add_sample(fl)"
   ]
  },
  {
   "cell_type": "code",
   "execution_count": null,
   "metadata": {},
   "outputs": [],
   "source": [
    "display_database()"
   ]
  },
  {
   "cell_type": "markdown",
   "metadata": {},
   "source": [
    "### Adding more data"
   ]
  },
  {
   "cell_type": "code",
   "execution_count": null,
   "metadata": {},
   "outputs": [],
   "source": [
    "nmr = NMRDataLoader(data_path_nmr)\n",
    "nmr.add_metadata(\n",
    "    sample_name=\"Olive oil\",\n",
    "    internal_code=\"S23\", \n",
    "    collected_by=\"Amulya\", \n",
    "    comments=\"Olive oil from campaign\"\n",
    ")"
   ]
  },
  {
   "cell_type": "code",
   "execution_count": 18,
   "metadata": {},
   "outputs": [],
   "source": [
    "with Database(\"db.sqlite\") as db:\n",
    "    db.add_sample(nmr)"
   ]
  },
  {
   "cell_type": "code",
   "execution_count": null,
   "metadata": {},
   "outputs": [],
   "source": [
    "display_database()"
   ]
  },
  {
   "cell_type": "code",
   "execution_count": null,
   "metadata": {},
   "outputs": [],
   "source": []
  }
 ],
 "metadata": {
  "kernelspec": {
   "display_name": ".venv",
   "language": "python",
   "name": "python3"
  },
  "language_info": {
   "codemirror_mode": {
    "name": "ipython",
    "version": 3
   },
   "file_extension": ".py",
   "mimetype": "text/x-python",
   "name": "python",
   "nbconvert_exporter": "python",
   "pygments_lexer": "ipython3",
   "version": "3.11.1"
  }
 },
 "nbformat": 4,
 "nbformat_minor": 2
}
